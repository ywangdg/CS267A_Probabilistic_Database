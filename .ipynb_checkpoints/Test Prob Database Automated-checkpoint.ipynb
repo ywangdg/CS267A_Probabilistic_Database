{
 "cells": [
  {
   "cell_type": "code",
   "execution_count": 2,
   "metadata": {},
   "outputs": [],
   "source": [
    "import getopt\n",
    "import sys\n",
    "\n",
    "import numpy as np\n",
    "import pandas as pd\n",
    "import query\n",
    "\n",
    "database = dict()\n",
    "\n",
    "\n",
    "def read_table(table):\n",
    "    file = open(table, \"r\")\n",
    "    lines = file.readlines()\n",
    "    lines = [line.replace(\"\\n\", \"\") for line in lines]\n",
    "    lines = [line.strip() for line in lines]\n",
    "    lines = [line.split(',') for line in lines]\n",
    "    table_name = lines[0][0]\n",
    "    data = np.array(lines[1:])\n",
    "    print('table data', data)\n",
    "    columns = []\n",
    "    for i in xrange(data.shape[1] - 1):\n",
    "        columns.append('Var' + str(i+1))\n",
    "    columns.append('Prob')\n",
    "    df = pd.DataFrame(data = data, columns = columns)\n",
    "    database[table_name] = df\n",
    "    print('dataframe',df)\n",
    "\n",
    "\n",
    "def parse_query(query):\n",
    "    file = open(query, \"r\")\n",
    "    lines = file.readlines()\n",
    "    sentence = lines[0]\n",
    "    sentence.strip().split(\"||\")\n",
    "    \n",
    "    print sentence.strip().split(\"||\")\n",
    "    queryline=sentence.strip().split(\"||\")\n",
    "\n",
    "\n",
    "\n",
    "\n"
   ]
  },
  {
   "cell_type": "code",
   "execution_count": 3,
   "metadata": {},
   "outputs": [
    {
     "name": "stdout",
     "output_type": "stream",
     "text": [
      "('table data', array([['0', '0.7'],\n",
      "       ['1', '0.8'],\n",
      "       ['2', '0.6']], dtype='|S3'))\n",
      "('dataframe',   Var1 Prob\n",
      "0    0  0.7\n",
      "1    1  0.8\n",
      "2    2  0.6)\n",
      "('table data', array([['0', '0.7'],\n",
      "       ['1', '0.3'],\n",
      "       ['2', '0.5']], dtype='|S3'))\n",
      "('dataframe',   Var1 Prob\n",
      "0    0  0.7\n",
      "1    1  0.3\n",
      "2    2  0.5)\n",
      "('table data', array([['0', '0', '0.8'],\n",
      "       ['0', '1', '0.4'],\n",
      "       ['0', '2', '0.5'],\n",
      "       ['1', '2', '0.6'],\n",
      "       ['2', '2', '0.9']], dtype='|S3'))\n",
      "('dataframe',   Var1 Var2 Prob\n",
      "0    0    0  0.8\n",
      "1    0    1  0.4\n",
      "2    0    2  0.5\n",
      "3    1    2  0.6\n",
      "4    2    2  0.9)\n"
     ]
    }
   ],
   "source": [
    "# Here we are loading the tables\n",
    "tables = [\"t1.txt\",\"t2.txt\",\"t3.txt\"]\n",
    "for table in tables:\n",
    "    read_table(table)\n"
   ]
  },
  {
   "cell_type": "code",
   "execution_count": 4,
   "metadata": {},
   "outputs": [
    {
     "name": "stdout",
     "output_type": "stream",
     "text": [
      "['R(x1,y1),P(x1), Q(x1), S(x1, y1)']\n"
     ]
    }
   ],
   "source": [
    "# This part is not automated, in the final solution, \n",
    "#the query parser would give us a list of strings so we know which dataframes we need to evaluate.\n",
    "queries = \"query1.txt\"\n",
    "parse_query(queries)"
   ]
  },
  {
   "cell_type": "code",
   "execution_count": 5,
   "metadata": {},
   "outputs": [],
   "source": [
    "    file = open(\"t3.txt\" ,\"r\")\n",
    "    lines = file.readlines()\n",
    "    lines = [line.replace(\"\\n\", \"\") for line in lines]\n",
    "    lines = [line.strip() for line in lines]\n",
    "    lines = [line.split(',') for line in lines]\n",
    "    table_name = lines[0][0]\n",
    "    data = np.array(lines[1:])\n",
    "    #print('table data', data)"
   ]
  },
  {
   "cell_type": "code",
   "execution_count": 6,
   "metadata": {},
   "outputs": [
    {
     "name": "stdout",
     "output_type": "stream",
     "text": [
      "{'Q':   Var1 Prob\n",
      "0    0  0.7\n",
      "1    1  0.3\n",
      "2    2  0.5, 'P':   Var1 Prob\n",
      "0    0  0.7\n",
      "1    1  0.8\n",
      "2    2  0.6, 'R':   Var1 Var2 Prob\n",
      "0    0    0  0.8\n",
      "1    0    1  0.4\n",
      "2    0    2  0.5\n",
      "3    1    2  0.6\n",
      "4    2    2  0.9}\n"
     ]
    }
   ],
   "source": [
    "print(database)"
   ]
  },
  {
   "cell_type": "code",
   "execution_count": 7,
   "metadata": {},
   "outputs": [
    {
     "name": "stdout",
     "output_type": "stream",
     "text": [
      "(['Q'], ['R'])\n"
     ]
    }
   ],
   "source": [
    "listx=['Q']\n",
    "listxy=['R'] \n",
    "print(listx,listxy)"
   ]
  },
  {
   "cell_type": "code",
   "execution_count": 8,
   "metadata": {},
   "outputs": [
    {
     "name": "stdout",
     "output_type": "stream",
     "text": [
      "  Var1 Prob\n",
      "0    0  0.7\n",
      "1    1  0.3\n",
      "2    2  0.5\n"
     ]
    }
   ],
   "source": [
    "print(database['Q'])"
   ]
  },
  {
   "cell_type": "code",
   "execution_count": 9,
   "metadata": {},
   "outputs": [
    {
     "name": "stdout",
     "output_type": "stream",
     "text": [
      "  Var1 Prob\n",
      "0    0  0.7\n",
      "1    1  0.8\n",
      "2    2  0.6\n"
     ]
    }
   ],
   "source": [
    "print(database['P'])"
   ]
  },
  {
   "cell_type": "code",
   "execution_count": 10,
   "metadata": {},
   "outputs": [],
   "source": [
    "database['R'][\"Prob\"]= pd.to_numeric(database['R'][\"Prob\"])\n",
    "database['Q'][\"Prob\"]= pd.to_numeric(database['Q'][\"Prob\"])\n",
    "database['P'][\"Prob\"]= pd.to_numeric(database['P'][\"Prob\"])\n",
    "#'Here I needed a data type conversion to numeric as in our parser, we set all elements in the df to string')\n",
    "#'This step can be moved back into the parser, maybe?')"
   ]
  },
  {
   "cell_type": "code",
   "execution_count": 11,
   "metadata": {},
   "outputs": [],
   "source": [
    "#'in the r xy table, need the negative of the possibilities'\n",
    "database['R'][\"NegProb\"]= (1-database['R'][\"Prob\"])"
   ]
  },
  {
   "cell_type": "code",
   "execution_count": 12,
   "metadata": {},
   "outputs": [
    {
     "name": "stdout",
     "output_type": "stream",
     "text": [
      "  Var1 Var2  Prob  NegProb\n",
      "0    0    0   0.8      0.2\n",
      "1    0    1   0.4      0.6\n",
      "2    0    2   0.5      0.5\n",
      "3    1    2   0.6      0.4\n",
      "4    2    2   0.9      0.1\n"
     ]
    }
   ],
   "source": [
    "print(database['R'])"
   ]
  },
  {
   "cell_type": "code",
   "execution_count": 13,
   "metadata": {},
   "outputs": [
    {
     "name": "stdout",
     "output_type": "stream",
     "text": [
      "The key is to find the neg probability in each (x,y) pairing, grouping on x\n",
      "      Prob  NegProb\n",
      "Var1               \n",
      "0     0.16     0.06\n",
      "1     0.60     0.40\n",
      "2     0.90     0.10\n",
      "we are taking the R x,y table and grouping on x, essentially eliminating y, so we can do an inner join with the dataframes in a following step\n"
     ]
    }
   ],
   "source": [
    "print('The key is to find the neg probability in each (x,y) pairing, grouping on x')\n",
    "print(database['R'].groupby('Var1').prod())\n",
    "df = pd.DataFrame(database['R'].groupby('Var1').prod())\n",
    "database['Rprod']=database['R'].groupby('Var1').prod()\n",
    "\n",
    "print('we are taking the R x,y table and grouping on x, essentially eliminating y, so we can do an inner join with the dataframes in a following step')"
   ]
  },
  {
   "cell_type": "code",
   "execution_count": 14,
   "metadata": {},
   "outputs": [
    {
     "name": "stdout",
     "output_type": "stream",
     "text": [
      "  Var1  Prob\n",
      "0    0   0.7\n",
      "1    1   0.3\n",
      "2    2   0.5\n"
     ]
    }
   ],
   "source": [
    "print(database['Q'])"
   ]
  },
  {
   "cell_type": "code",
   "execution_count": 15,
   "metadata": {},
   "outputs": [
    {
     "name": "stdout",
     "output_type": "stream",
     "text": [
      "      Prob  NegProb\n",
      "Var1               \n",
      "0     0.16     0.06\n",
      "1     0.60     0.40\n",
      "2     0.90     0.10\n"
     ]
    }
   ],
   "source": [
    "print(database['Rprod'])"
   ]
  },
  {
   "cell_type": "code",
   "execution_count": 16,
   "metadata": {},
   "outputs": [
    {
     "name": "stdout",
     "output_type": "stream",
     "text": [
      "here we inner join on Qx dataframe and our newly simplified R(x,y) database\n"
     ]
    }
   ],
   "source": [
    "result = pd.merge(database['Rprod'][['NegProb']],database['Q'][['Var1','Prob']],how='inner', on = 'Var1')\n",
    "print('here we inner join on Qx dataframe and our newly simplified R(x,y) database')\n",
    "# note the syntax here is quite strange, as the double bracket [[]]in the dataframe is a select specific columns"
   ]
  },
  {
   "cell_type": "code",
   "execution_count": 17,
   "metadata": {},
   "outputs": [
    {
     "name": "stdout",
     "output_type": "stream",
     "text": [
      "  Var1  NegProb  Prob\n",
      "0    0     0.06   0.7\n",
      "1    1     0.40   0.3\n",
      "2    2     0.10   0.5\n"
     ]
    }
   ],
   "source": [
    "print(result)\n"
   ]
  },
  {
   "cell_type": "code",
   "execution_count": 18,
   "metadata": {},
   "outputs": [],
   "source": [
    "answer1 = 1-((1-(result[\"Prob\"]*(1-result[\"NegProb\"])))).prod()\n",
    "# this is the final equation to give us our answer , it is:\n",
    "#\n",
    "# 1. Prob, the probability that each variable is true, \n",
    "# 2. and (1-Negprob) which is the case that given x, the probability that x,y is true.\n",
    "\n",
    "# this probability is essentially the prob that each (x), (x,y) paring is true.\n",
    "# we do 1- to find the prob that each paring is false.\n",
    "# we do 1- the product of all paring is false, which equals at lease one pariing is true.\n",
    "#  Notes\n",
    "# (1 - negprob) takes into account the fact that in the x,y table, one variable x can have many y mappings. \n",
    "# hence the group by product eariler \n"
   ]
  },
  {
   "cell_type": "code",
   "execution_count": 19,
   "metadata": {},
   "outputs": [
    {
     "data": {
      "text/plain": [
       "0.845758"
      ]
     },
     "execution_count": 19,
     "metadata": {},
     "output_type": "execute_result"
    }
   ],
   "source": [
    "answer1"
   ]
  },
  {
   "cell_type": "code",
   "execution_count": 20,
   "metadata": {},
   "outputs": [
    {
     "data": {
      "text/plain": [
       "'yay able to get the 8458 from parsing the files'"
      ]
     },
     "execution_count": 20,
     "metadata": {},
     "output_type": "execute_result"
    }
   ],
   "source": [
    "'yay able to get the 8458 from parsing the files'"
   ]
  },
  {
   "cell_type": "code",
   "execution_count": 21,
   "metadata": {},
   "outputs": [],
   "source": [
    "#For the many inputs in the query case, we will need to take each answer prob, store them in a list and then do \n",
    "#1- the product of (1-Prod) again\n",
    "#In essence another layer of 1- on the existing algorithm"
   ]
  },
  {
   "cell_type": "code",
   "execution_count": 22,
   "metadata": {},
   "outputs": [
    {
     "ename": "SyntaxError",
     "evalue": "invalid syntax (<ipython-input-22-637ab8f5dc1a>, line 1)",
     "output_type": "error",
     "traceback": [
      "\u001b[0;36m  File \u001b[0;32m\"<ipython-input-22-637ab8f5dc1a>\"\u001b[0;36m, line \u001b[0;32m1\u001b[0m\n\u001b[0;31m    To do list:\u001b[0m\n\u001b[0m        ^\u001b[0m\n\u001b[0;31mSyntaxError\u001b[0m\u001b[0;31m:\u001b[0m invalid syntax\n"
     ]
    }
   ],
   "source": [
    "To do list:\n",
    "Remaining functions which need work.\n",
    "parse_query()       -- parse query . -- input . query string -- output list of (x),(x,y) pairings in an array\n",
    "dfmani(['P','R'])   -- dataframe manipulation  --input letters of the corresponding tables, --output append pair prob to answer array\n",
    "Final(Answer Array) -- final solution calculation  -- input answer array .  -- output final solution\n",
    "Unfortunately, we also have to work on the case where different P,Q share the same R(x,y) this is the second test case, \n",
    "no idea how to do this.\n",
    "\n",
    "1. In the query parser, we should get an array with a list of x , (x,y) parings so like  ['P','R'],['Q','R'],['T','R'] so we can run the steps on multiple pairs\n",
    "    my thought for this is the first element of each tuple is the x pair, and the second is the x,y pair. \n",
    "    that would make things super easy for a for loop\n",
    "\n",
    "    \n",
    "2. We need to put the dataframe manipulation into a def function so we can call it for each pair.\n",
    "    This function should store each answer in an answer array. for each x, (x,y) pair\n",
    "    goal implementation dfmani(['Q','R'])  would give us the 0.8458\n",
    "    \n",
    "3. We need a final output function which takes each answer in the answer array and do the 1- prod manipulation.''''''\n"
   ]
  },
  {
   "cell_type": "code",
   "execution_count": 23,
   "metadata": {},
   "outputs": [
    {
     "name": "stdout",
     "output_type": "stream",
     "text": [
      "      Prob  NegProb\n",
      "Var1               \n",
      "0     0.16     0.06\n",
      "1     0.60     0.40\n",
      "2     0.90     0.10\n"
     ]
    }
   ],
   "source": [
    "print(database['Rprod'])"
   ]
  },
  {
   "cell_type": "code",
   "execution_count": 24,
   "metadata": {},
   "outputs": [
    {
     "name": "stdout",
     "output_type": "stream",
     "text": [
      "  Var1  NegProb  Prob\n",
      "0    0     0.06   0.7\n",
      "1    1     0.40   0.3\n",
      "2    2     0.10   0.5\n"
     ]
    }
   ],
   "source": [
    "print(result)"
   ]
  },
  {
   "cell_type": "code",
   "execution_count": 25,
   "metadata": {},
   "outputs": [],
   "source": [
    "result2 = pd.merge(database['Rprod'][['NegProb']],database['P'][['Var1','Prob']],how='inner', on = 'Var1')"
   ]
  },
  {
   "cell_type": "code",
   "execution_count": 26,
   "metadata": {},
   "outputs": [
    {
     "data": {
      "text/html": [
       "<div>\n",
       "<style scoped>\n",
       "    .dataframe tbody tr th:only-of-type {\n",
       "        vertical-align: middle;\n",
       "    }\n",
       "\n",
       "    .dataframe tbody tr th {\n",
       "        vertical-align: top;\n",
       "    }\n",
       "\n",
       "    .dataframe thead th {\n",
       "        text-align: right;\n",
       "    }\n",
       "</style>\n",
       "<table border=\"1\" class=\"dataframe\">\n",
       "  <thead>\n",
       "    <tr style=\"text-align: right;\">\n",
       "      <th></th>\n",
       "      <th>Var1</th>\n",
       "      <th>NegProb</th>\n",
       "      <th>Prob</th>\n",
       "    </tr>\n",
       "  </thead>\n",
       "  <tbody>\n",
       "    <tr>\n",
       "      <th>0</th>\n",
       "      <td>0</td>\n",
       "      <td>0.06</td>\n",
       "      <td>0.7</td>\n",
       "    </tr>\n",
       "    <tr>\n",
       "      <th>1</th>\n",
       "      <td>1</td>\n",
       "      <td>0.40</td>\n",
       "      <td>0.8</td>\n",
       "    </tr>\n",
       "    <tr>\n",
       "      <th>2</th>\n",
       "      <td>2</td>\n",
       "      <td>0.10</td>\n",
       "      <td>0.6</td>\n",
       "    </tr>\n",
       "  </tbody>\n",
       "</table>\n",
       "</div>"
      ],
      "text/plain": [
       "  Var1  NegProb  Prob\n",
       "0    0     0.06   0.7\n",
       "1    1     0.40   0.8\n",
       "2    2     0.10   0.6"
      ]
     },
     "execution_count": 26,
     "metadata": {},
     "output_type": "execute_result"
    }
   ],
   "source": [
    "result2"
   ]
  },
  {
   "cell_type": "code",
   "execution_count": 27,
   "metadata": {},
   "outputs": [
    {
     "data": {
      "text/plain": [
       "0.9181936"
      ]
     },
     "execution_count": 27,
     "metadata": {},
     "output_type": "execute_result"
    }
   ],
   "source": [
    "answer2 = 1-(1-(result2[\"Prob\"]*(1-result2[\"NegProb\"]))).prod()\n",
    "answer2"
   ]
  },
  {
   "cell_type": "code",
   "execution_count": 28,
   "metadata": {},
   "outputs": [
    {
     "name": "stdout",
     "output_type": "stream",
     "text": [
      "  Var1  NegProb  Prob_x  Prob_y\n",
      "0    0     0.06     0.7     0.7\n",
      "1    1     0.40     0.3     0.8\n",
      "2    2     0.10     0.5     0.6\n"
     ]
    }
   ],
   "source": [
    "dfs = [database['Rprod'][['NegProb']], database['Q'], database['P']]\n",
    "df_final = reduce(lambda left,right: pd.merge(left,right,on='Var1'), dfs)\n",
    "print (df_final)\n"
   ]
  },
  {
   "cell_type": "code",
   "execution_count": 29,
   "metadata": {},
   "outputs": [],
   "source": [
    "answeror = 1-(1-(1-(1-df_final[\"Prob_x\"])*(1-df_final[\"Prob_y\"]))*(1-(df_final[\"NegProb\"]))).prod()"
   ]
  },
  {
   "cell_type": "code",
   "execution_count": 30,
   "metadata": {},
   "outputs": [
    {
     "name": "stdout",
     "output_type": "stream",
     "text": [
      "0.980403808\n"
     ]
    },
    {
     "ename": "NameError",
     "evalue": "name 'answer' is not defined",
     "output_type": "error",
     "traceback": [
      "\u001b[0;31m---------------------------------------------------------------------------\u001b[0m",
      "\u001b[0;31mNameError\u001b[0m                                 Traceback (most recent call last)",
      "\u001b[0;32m<ipython-input-30-3322cc4ef810>\u001b[0m in \u001b[0;36m<module>\u001b[0;34m()\u001b[0m\n\u001b[1;32m      1\u001b[0m \u001b[0;32mprint\u001b[0m\u001b[0;34m(\u001b[0m\u001b[0mansweror\u001b[0m\u001b[0;34m)\u001b[0m\u001b[0;34m\u001b[0m\u001b[0m\n\u001b[0;32m----> 2\u001b[0;31m \u001b[0manswer\u001b[0m\u001b[0;34m\u001b[0m\u001b[0m\n\u001b[0m",
      "\u001b[0;31mNameError\u001b[0m: name 'answer' is not defined"
     ]
    }
   ],
   "source": [
    "print(answeror)\n",
    "print()"
   ]
  },
  {
   "cell_type": "code",
   "execution_count": 31,
   "metadata": {},
   "outputs": [
    {
     "data": {
      "text/plain": [
       "0.7835477919999999"
      ]
     },
     "execution_count": 31,
     "metadata": {},
     "output_type": "execute_result"
    }
   ],
   "source": [
    "answer1+answer2-answeror"
   ]
  },
  {
   "cell_type": "code",
   "execution_count": 32,
   "metadata": {},
   "outputs": [
    {
     "ename": "NameError",
     "evalue": "name 'answer' is not defined",
     "output_type": "error",
     "traceback": [
      "\u001b[0;31m---------------------------------------------------------------------------\u001b[0m",
      "\u001b[0;31mNameError\u001b[0m                                 Traceback (most recent call last)",
      "\u001b[0;32m<ipython-input-32-b33788c35f07>\u001b[0m in \u001b[0;36m<module>\u001b[0;34m()\u001b[0m\n\u001b[0;32m----> 1\u001b[0;31m \u001b[0manswer\u001b[0m\u001b[0;34m\u001b[0m\u001b[0m\n\u001b[0m",
      "\u001b[0;31mNameError\u001b[0m: name 'answer' is not defined"
     ]
    }
   ],
   "source": [
    "answer\n"
   ]
  },
  {
   "cell_type": "code",
   "execution_count": 33,
   "metadata": {},
   "outputs": [],
   "source": [
    "# Case 3 for each independent p(x)r(x,y)    \n",
    "#if p(x)r(x,y):\n",
    "database['R'][\"NegProb\"]= (1-database['R'][\"Prob\"])\n",
    "database['Rprod']=database['R'].groupby('Var1').prod()\n",
    "database['Rprod'][\"Prob\"]= (1-database['Rprod'][\"NegProb\"])\n",
    "result = pd.merge(database['Rprod'][['NegProb']],database['P'][['Var1','Prob']],how='inner', on = 'Var1')\n",
    "\n",
    "solution=1-(1-(result[\"Prob\"]*(1-result[\"NegProb\"]))).prod()   \n",
    "    #get rid of Y in r(x,y) and then do a merge of the two"
   ]
  },
  {
   "cell_type": "code",
   "execution_count": 34,
   "metadata": {},
   "outputs": [
    {
     "name": "stdout",
     "output_type": "stream",
     "text": [
      "  Var1  Prob_x  Prob_y  Prob\n",
      "0    0    0.94     0.7     1\n",
      "1    1    0.60     0.3     1\n",
      "2    2    0.90     0.5     1\n",
      "  Var1  Prob_x  Prob_y  Prob\n",
      "0    0    0.94     0.7  0.94\n",
      "1    1    0.60     0.3  0.60\n",
      "2    2    0.90     0.5  0.90\n",
      "  Var1  Prob_x  Prob_y   Prob\n",
      "0    0    0.94     0.7  0.658\n",
      "1    1    0.60     0.3  0.180\n",
      "2    2    0.90     0.5  0.450\n",
      "0.845758\n"
     ]
    }
   ],
   "source": [
    "database['R'][\"NegProb\"]= (1-database['R'][\"Prob\"])\n",
    "database['Rprod']=database['R'].groupby('Var1').prod()\n",
    "database['Rprod'][\"Prob\"]= (1-database['Rprod'][\"NegProb\"])\n",
    "\n",
    "result = pd.merge(database['Rprod'][['Prob']],database['Q'][['Var1','Prob']],how='inner', on = 'Var1')\n",
    "#The merge is the same for all databases, assuming we join on one variable.\n",
    "#The result below is the indepedent term* the probability for the dependent terms. or the probability of the xy term.\n",
    "result[\"Prob\"]=1\n",
    "print(result)\n",
    "for column in result:\n",
    "    if ('Var' not in result[column].name and result[column].name!='Prob'):\n",
    "        #print(result[column])\n",
    "        result[\"Prob\"]=result[\"Prob\"]*result[column]\n",
    "        print(result)\n",
    "#print(result)\n",
    "#result[\"Prob\"]=(result[\"Prob_x\"]*(result[\"Prob_y\"]))\n",
    "solution=1-(1-(result[\"Prob\"])).prod() \n",
    "print(solution)"
   ]
  },
  {
   "cell_type": "code",
   "execution_count": 66,
   "metadata": {},
   "outputs": [
    {
     "name": "stdout",
     "output_type": "stream",
     "text": [
      "  Var1  Prob_x  Prob_y   Prob\n",
      "0    0    0.94     0.7  0.658\n",
      "1    1    0.60     0.8  0.480\n",
      "2    2    0.90     0.6  0.540\n",
      "0.9181936\n"
     ]
    }
   ],
   "source": [
    "print(result)\n",
    "print(solution)"
   ]
  },
  {
   "cell_type": "code",
   "execution_count": 11,
   "metadata": {},
   "outputs": [
    {
     "ename": "SyntaxError",
     "evalue": "invalid syntax (<ipython-input-11-ed4639a7fc5e>, line 3)",
     "output_type": "error",
     "traceback": [
      "\u001b[0;36m  File \u001b[0;32m\"<ipython-input-11-ed4639a7fc5e>\"\u001b[0;36m, line \u001b[0;32m3\u001b[0m\n\u001b[0;31m    if p(x)  result = database[p]\u001b[0m\n\u001b[0m                  ^\u001b[0m\n\u001b[0;31mSyntaxError\u001b[0m\u001b[0;31m:\u001b[0m invalid syntax\n"
     ]
    }
   ],
   "source": [
    "#lets call this algorithm probcalc\n",
    "# Case 1  for each independent p(x)\n",
    "if p(x)  result = database[p]\n",
    "    solution=1-(1-result[\"Prob\"]).prod()\n",
    "\n",
    "# Case 2 for each independent r(x,y)    \n",
    "if r(x,y):\n",
    "    database['R'][\"NegProb\"]= (1-database['R'][\"Prob\"])\n",
    "    database['Rprod']=database['R'].groupby('Var1').prod()\n",
    "    database['Rprod'][\"Prob\"]= (1-database['Rprod'][\"NegProb\"])\n",
    "    result = database['Rprod']\n",
    "    solution=1-(1-result[\"Prob\"]).prod()   \n",
    "    #get rid of Y in r(x,y) and then do a merge of the two    \n",
    "    \n",
    "# Case 3 for each independent p(x)r(x,y)    \n",
    "    database['R'][\"NegProb\"]= (1-database['R'][\"Prob\"])\n",
    "    database['Rprod']=database['R'].groupby('Var1').prod()\n",
    "    database['Rprod'][\"Prob\"]= (1-database['Rprod'][\"NegProb\"])\n",
    "    result = pd.merge(database['Rprod'][['Prob']],database['Q'][['Var1','Prob']],how='inner', on = 'Var1')\n",
    "    #The merge is the same for all databases, assuming we join on one variable.\n",
    "    #The result below is the indepedent term* the probability for the dependent terms. \n",
    "    #or the probability of the xy term.\n",
    "    result[\"Prob\"]=1\n",
    "    print(result)\n",
    "    for column in result:\n",
    "        if ('Var' not in result[column].name and result[column].name!='Prob'):\n",
    "            #print(result[column])\n",
    "            result[\"Prob\"]=result[\"Prob\"]*result[column]\n",
    "            print(result)\n",
    "    solution=1-(1-(result[\"Prob\"])).prod() \n",
    "    print(solution)\n",
    "\n",
    "# Case 4 for each independent p(x)r(y)    \n",
    "if p(x)r(y):\n",
    "    solution=probcalc(p(x))*probcalc(r(y))   \n",
    "    #get rid of Y in r(x,y) and then do a merge of the two    \n",
    "    \n",
    "# Case 5 for each indepdendent p(x1)r(x1,y1)q(x2)y(x2,y2)\n",
    "if p(x1)r(x1,y1)q(x2)r(x2,y2):\n",
    "    database['R'][\"NegProb\"]= (1-database['R'][\"Prob\"])\n",
    "    database['Rprod']=database['R'].groupby('Var1').prod()\n",
    "    dfs = [database['Rprod'][['NegProb']], database['Q'], database['P']]\n",
    "    df_final = reduce(lambda left,right: pd.merge(left,right,on='Var1'), dfs)\n",
    "    answeror = 1-(1-(1-(1-df_final[\"Prob_x\"])*(1-df_final[\"Prob_y\"]))*(1-(df_final[\"NegProb\"]))).prod()\n",
    "    answer=  probcalc(p(x),r(x,y))+probcalc(q(x),r(x,y))- answeror\n",
    "    # we can also recursively do answeror, but haven't throught that through yet\n",
    "\n",
    "# Case 6 the or case p(x)||q(y)  here we can write a seperate function?\n",
    "if p(x)||q(y)\n",
    "    1-(1-probcalc(p(x)))*(1-probcalc(q(y)))\n",
    "\n"
   ]
  },
  {
   "cell_type": "code",
   "execution_count": null,
   "metadata": {},
   "outputs": [],
   "source": []
  }
 ],
 "metadata": {
  "anaconda-cloud": {},
  "kernelspec": {
   "display_name": "Python 2",
   "language": "python",
   "name": "python2"
  },
  "language_info": {
   "codemirror_mode": {
    "name": "ipython",
    "version": 2
   },
   "file_extension": ".py",
   "mimetype": "text/x-python",
   "name": "python",
   "nbconvert_exporter": "python",
   "pygments_lexer": "ipython2",
   "version": "2.7.15"
  }
 },
 "nbformat": 4,
 "nbformat_minor": 2
}
