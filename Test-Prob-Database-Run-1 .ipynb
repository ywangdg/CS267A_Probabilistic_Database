{
 "cells": [
  {
   "cell_type": "code",
   "execution_count": 38,
   "metadata": {
    "collapsed": true
   },
   "outputs": [],
   "source": [
    "import getopt\n",
    "import sys\n",
    "\n",
    "import numpy as np\n",
    "import pandas as pd\n",
    "import query\n",
    "\n",
    "database = dict()\n",
    "\n",
    "\n",
    "def read_table(table):\n",
    "    file = open(table, \"r\")\n",
    "    lines = file.readlines()\n",
    "    lines = [line.replace(\"\\n\", \"\") for line in lines]\n",
    "    lines = [line.strip() for line in lines]\n",
    "    lines = [line.split(',') for line in lines]\n",
    "    table_name = lines[0][0]\n",
    "    data = np.array(lines[1:])\n",
    "    print('table data', data)\n",
    "    columns = []\n",
    "    for i in xrange(data.shape[1] - 1):\n",
    "        columns.append('Var' + str(i+1))\n",
    "    columns.append('Prob')\n",
    "    df = pd.DataFrame(data = data, columns = columns)\n",
    "    database[table_name] = df\n",
    "    print('dataframe',df)\n",
    "\n",
    "\n",
    "def parse_query(query):\n",
    "    file = open(query, \"r\")\n",
    "    lines = file.readlines()\n",
    "    sentence = lines[0]\n",
    "    sentence.strip().split(\"||\")\n",
    "    \n",
    "    print sentence.strip().split(\"||\")\n",
    "    queryline=sentence.strip().split(\"||\")\n",
    "\n",
    "\n",
    "\n",
    "\n"
   ]
  },
  {
   "cell_type": "code",
   "execution_count": 42,
   "metadata": {
    "collapsed": false
   },
   "outputs": [
    {
     "name": "stdout",
     "output_type": "stream",
     "text": [
      "('table data', array([['0', '0.7'],\n",
      "       ['1', '0.8'],\n",
      "       ['2', '0.6']], dtype='|S3'))\n",
      "('dataframe',   Var1 Prob\n",
      "0    0  0.7\n",
      "1    1  0.8\n",
      "2    2  0.6)\n",
      "('table data', array([['0', '0.7'],\n",
      "       ['1', '0.3'],\n",
      "       ['2', '0.5']], dtype='|S3'))\n",
      "('dataframe',   Var1 Prob\n",
      "0    0  0.7\n",
      "1    1  0.3\n",
      "2    2  0.5)\n",
      "('table data', array([['0', '0', '0.8'],\n",
      "       ['0', '1', '0.4'],\n",
      "       ['0', '2', '0.5'],\n",
      "       ['1', '2', '0.6'],\n",
      "       ['2', '2', '0.9']], dtype='|S3'))\n",
      "('dataframe',   Var1 Var2 Prob\n",
      "0    0    0  0.8\n",
      "1    0    1  0.4\n",
      "2    0    2  0.5\n",
      "3    1    2  0.6\n",
      "4    2    2  0.9)\n"
     ]
    }
   ],
   "source": [
    "tables = [\"t1.txt\",\"t2.txt\",\"t3.txt\"]\n",
    "for table in tables:\n",
    "    read_table(table)\n"
   ]
  },
  {
   "cell_type": "code",
   "execution_count": 37,
   "metadata": {
    "collapsed": false
   },
   "outputs": [
    {
     "name": "stdout",
     "output_type": "stream",
     "text": [
      "['R(x1,y1),Q(x1)']\n"
     ]
    }
   ],
   "source": [
    "    queries = \"query1.txt\"\n",
    "    parse_query(queries)"
   ]
  },
  {
   "cell_type": "code",
   "execution_count": 40,
   "metadata": {
    "collapsed": false
   },
   "outputs": [
    {
     "name": "stdout",
     "output_type": "stream",
     "text": [
      "('table data', array([['0', '0', '0.8'],\n",
      "       ['0', '1', '0.4'],\n",
      "       ['0', '2', '0.5'],\n",
      "       ['1', '2', '0.6'],\n",
      "       ['2', '2', '0.9']], dtype='|S3'))\n"
     ]
    }
   ],
   "source": [
    "    file = open(\"t3.txt\" ,\"r\")\n",
    "    lines = file.readlines()\n",
    "    lines = [line.replace(\"\\n\", \"\") for line in lines]\n",
    "    lines = [line.strip() for line in lines]\n",
    "    lines = [line.split(',') for line in lines]\n",
    "    table_name = lines[0][0]\n",
    "    data = np.array(lines[1:])\n",
    "    print('table data', data)"
   ]
  },
  {
   "cell_type": "code",
   "execution_count": 43,
   "metadata": {
    "collapsed": false
   },
   "outputs": [
    {
     "name": "stdout",
     "output_type": "stream",
     "text": [
      "{'Q':   Var1 Prob\n",
      "0    0  0.7\n",
      "1    1  0.3\n",
      "2    2  0.5, 'P':   Var1 Prob\n",
      "0    0  0.7\n",
      "1    1  0.8\n",
      "2    2  0.6, 'R':   Var1 Var2 Prob\n",
      "0    0    0  0.8\n",
      "1    0    1  0.4\n",
      "2    0    2  0.5\n",
      "3    1    2  0.6\n",
      "4    2    2  0.9}\n"
     ]
    }
   ],
   "source": [
    "print(database)"
   ]
  },
  {
   "cell_type": "code",
   "execution_count": 44,
   "metadata": {
    "collapsed": false
   },
   "outputs": [
    {
     "name": "stdout",
     "output_type": "stream",
     "text": [
      "  Var1 Prob\n",
      "0    0  0.7\n",
      "1    1  0.3\n",
      "2    2  0.5\n"
     ]
    }
   ],
   "source": [
    "print(database['Q'])"
   ]
  },
  {
   "cell_type": "code",
   "execution_count": 45,
   "metadata": {
    "collapsed": false
   },
   "outputs": [
    {
     "name": "stdout",
     "output_type": "stream",
     "text": [
      "  Var1 Prob\n",
      "0    0  0.7\n",
      "1    1  0.8\n",
      "2    2  0.6\n"
     ]
    }
   ],
   "source": [
    "print(database['P'])"
   ]
  },
  {
   "cell_type": "code",
   "execution_count": 56,
   "metadata": {
    "collapsed": true
   },
   "outputs": [],
   "source": [
    "database['R'][\"Prob\"]= pd.to_numeric(database['R'][\"Prob\"])"
   ]
  },
  {
   "cell_type": "code",
   "execution_count": 58,
   "metadata": {
    "collapsed": true
   },
   "outputs": [],
   "source": [
    "database['R'][\"NegProb\"]= (1-database['R'][\"Prob\"])"
   ]
  },
  {
   "cell_type": "code",
   "execution_count": 112,
   "metadata": {
    "collapsed": true
   },
   "outputs": [],
   "source": [
    "database['R'][\"PosProb\"]= (1-database['R'][\"NegProb\"])"
   ]
  },
  {
   "cell_type": "code",
   "execution_count": 113,
   "metadata": {
    "collapsed": false
   },
   "outputs": [
    {
     "name": "stdout",
     "output_type": "stream",
     "text": [
      "  Var1 Var2  Prob  NegProb  PosProb\n",
      "0    0    0   0.8      0.2      0.8\n",
      "1    0    1   0.4      0.6      0.4\n",
      "2    0    2   0.5      0.5      0.5\n",
      "3    1    2   0.6      0.4      0.6\n",
      "4    2    2   0.9      0.1      0.9\n"
     ]
    }
   ],
   "source": [
    "print(database['R'])"
   ]
  },
  {
   "cell_type": "code",
   "execution_count": 114,
   "metadata": {
    "collapsed": false
   },
   "outputs": [
    {
     "name": "stdout",
     "output_type": "stream",
     "text": [
      "0.9976\n"
     ]
    }
   ],
   "source": [
    "print(1-database['R'][\"NegProb\"].product())\n",
    "Rprob=1-database['R'][\"NegProb\"].product()"
   ]
  },
  {
   "cell_type": "code",
   "execution_count": 115,
   "metadata": {
    "collapsed": true
   },
   "outputs": [],
   "source": [
    "database['Q'][\"Prob\"]= pd.to_numeric(database['Q'][\"Prob\"])\n",
    "database['Q'][\"NegProb\"]= (1-database['Q'][\"Prob\"])"
   ]
  },
  {
   "cell_type": "code",
   "execution_count": 116,
   "metadata": {
    "collapsed": false
   },
   "outputs": [
    {
     "name": "stdout",
     "output_type": "stream",
     "text": [
      "0.895\n"
     ]
    }
   ],
   "source": [
    "print(1-database['Q'][\"NegProb\"].product())\n",
    "Qprob=1-database['R'][\"NegProb\"].product()"
   ]
  },
  {
   "cell_type": "code",
   "execution_count": 117,
   "metadata": {
    "collapsed": false
   },
   "outputs": [
    {
     "data": {
      "text/plain": [
       "0.99520576"
      ]
     },
     "execution_count": 117,
     "metadata": {},
     "output_type": "execute_result"
    }
   ],
   "source": [
    "Qprob*Rprob"
   ]
  },
  {
   "cell_type": "code",
   "execution_count": 118,
   "metadata": {
    "collapsed": false
   },
   "outputs": [
    {
     "name": "stdout",
     "output_type": "stream",
     "text": [
      "The key is to find the neg probability in each (x,y) pairing, grouping on x\n",
      "      Prob  NegProb  PosProb\n",
      "Var1                        \n",
      "0     0.16     0.06     0.16\n",
      "1     0.60     0.40     0.60\n",
      "2     0.90     0.10     0.90\n"
     ]
    }
   ],
   "source": [
    "print('The key is to find the neg probability in each (x,y) pairing, grouping on x')\n",
    "print(database['R'].groupby('Var1').prod())\n",
    "df = pd.DataFrame(database['R'].groupby('Var1').prod())\n",
    "database['Rprod']=database['R'].groupby('Var1').prod()"
   ]
  },
  {
   "cell_type": "code",
   "execution_count": 119,
   "metadata": {
    "collapsed": false
   },
   "outputs": [
    {
     "name": "stdout",
     "output_type": "stream",
     "text": [
      "  Var1  Prob  NegProb\n",
      "0    0   0.7      0.3\n",
      "1    1   0.3      0.7\n",
      "2    2   0.5      0.5\n"
     ]
    }
   ],
   "source": [
    "print(database['Q'])"
   ]
  },
  {
   "cell_type": "code",
   "execution_count": 120,
   "metadata": {
    "collapsed": false
   },
   "outputs": [
    {
     "name": "stdout",
     "output_type": "stream",
     "text": [
      "      Prob  NegProb  PosProb\n",
      "Var1                        \n",
      "0     0.16     0.06     0.16\n",
      "1     0.60     0.40     0.60\n",
      "2     0.90     0.10     0.90\n"
     ]
    }
   ],
   "source": [
    "print(database['Rprod'])"
   ]
  },
  {
   "cell_type": "code",
   "execution_count": 127,
   "metadata": {
    "collapsed": true
   },
   "outputs": [],
   "source": [
    "result = pd.merge(database['Rprod'],database['Q'],how='inner', on = 'Var1')"
   ]
  },
  {
   "cell_type": "code",
   "execution_count": 128,
   "metadata": {
    "collapsed": false
   },
   "outputs": [
    {
     "name": "stdout",
     "output_type": "stream",
     "text": [
      "  Var1  Prob_x  NegProb_x  PosProb  Prob_y  NegProb_y\n",
      "0    0    0.16       0.06     0.16     0.7        0.3\n",
      "1    1    0.60       0.40     0.60     0.3        0.7\n",
      "2    2    0.90       0.10     0.90     0.5        0.5\n"
     ]
    }
   ],
   "source": [
    "print(result)"
   ]
  },
  {
   "cell_type": "code",
   "execution_count": 141,
   "metadata": {
    "collapsed": true
   },
   "outputs": [],
   "source": [
    "answer = 1-((1-result[\"Prob_y\"]*(1-result[\"NegProb_x\"]))).prod()"
   ]
  },
  {
   "cell_type": "code",
   "execution_count": 142,
   "metadata": {
    "collapsed": false
   },
   "outputs": [
    {
     "data": {
      "text/plain": [
       "0.845758"
      ]
     },
     "execution_count": 142,
     "metadata": {},
     "output_type": "execute_result"
    }
   ],
   "source": [
    "answer"
   ]
  },
  {
   "cell_type": "code",
   "execution_count": 143,
   "metadata": {
    "collapsed": false
   },
   "outputs": [
    {
     "data": {
      "text/plain": [
       "'yay able to get the 8457 from parsing the files'"
      ]
     },
     "execution_count": 143,
     "metadata": {},
     "output_type": "execute_result"
    }
   ],
   "source": [
    "'yay able to get the 8457 from parsing the files'"
   ]
  },
  {
   "cell_type": "code",
   "execution_count": null,
   "metadata": {
    "collapsed": true
   },
   "outputs": [],
   "source": []
  }
 ],
 "metadata": {
  "anaconda-cloud": {},
  "kernelspec": {
   "display_name": "Python [default]",
   "language": "python",
   "name": "python2"
  },
  "language_info": {
   "codemirror_mode": {
    "name": "ipython",
    "version": 2
   },
   "file_extension": ".py",
   "mimetype": "text/x-python",
   "name": "python",
   "nbconvert_exporter": "python",
   "pygments_lexer": "ipython2",
   "version": "2.7.12"
  }
 },
 "nbformat": 4,
 "nbformat_minor": 2
}
