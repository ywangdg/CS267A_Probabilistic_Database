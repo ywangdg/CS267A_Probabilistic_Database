{
 "cells": [
  {
   "cell_type": "code",
   "execution_count": 1,
   "metadata": {
    "collapsed": true
   },
   "outputs": [],
   "source": [
    "import getopt\n",
    "import sys\n",
    "\n",
    "import numpy as np\n",
    "import pandas as pd\n",
    "import query\n",
    "\n",
    "database = dict()\n",
    "\n",
    "\n",
    "def read_table(table):\n",
    "    file = open(table, \"r\")\n",
    "    lines = file.readlines()\n",
    "    lines = [line.replace(\"\\n\", \"\") for line in lines]\n",
    "    lines = [line.strip() for line in lines]\n",
    "    lines = [line.split(',') for line in lines]\n",
    "    table_name = lines[0][0]\n",
    "    data = np.array(lines[1:])\n",
    "    print('table data', data)\n",
    "    columns = []\n",
    "    for i in xrange(data.shape[1] - 1):\n",
    "        columns.append('Var' + str(i+1))\n",
    "    columns.append('Prob')\n",
    "    df = pd.DataFrame(data = data, columns = columns)\n",
    "    database[table_name] = df\n",
    "    print('dataframe',df)\n",
    "\n",
    "\n",
    "def parse_query(query):\n",
    "    file = open(query, \"r\")\n",
    "    lines = file.readlines()\n",
    "    sentence = lines[0]\n",
    "    sentence.strip().split(\"||\")\n",
    "    \n",
    "    print sentence.strip().split(\"||\")\n",
    "    queryline=sentence.strip().split(\"||\")\n",
    "\n",
    "\n",
    "\n",
    "\n"
   ]
  },
  {
   "cell_type": "code",
   "execution_count": 2,
   "metadata": {
    "collapsed": false
   },
   "outputs": [
    {
     "name": "stdout",
     "output_type": "stream",
     "text": [
      "('table data', array([['0', '0.7'],\n",
      "       ['1', '0.8'],\n",
      "       ['2', '0.6']], dtype='|S3'))\n",
      "('dataframe',   Var1 Prob\n",
      "0    0  0.7\n",
      "1    1  0.8\n",
      "2    2  0.6)\n",
      "('table data', array([['0', '0.7'],\n",
      "       ['1', '0.3'],\n",
      "       ['2', '0.5']], dtype='|S3'))\n",
      "('dataframe',   Var1 Prob\n",
      "0    0  0.7\n",
      "1    1  0.3\n",
      "2    2  0.5)\n",
      "('table data', array([['0', '0', '0.8'],\n",
      "       ['0', '1', '0.4'],\n",
      "       ['0', '2', '0.5'],\n",
      "       ['1', '2', '0.6'],\n",
      "       ['2', '2', '0.9']], dtype='|S3'))\n",
      "('dataframe',   Var1 Var2 Prob\n",
      "0    0    0  0.8\n",
      "1    0    1  0.4\n",
      "2    0    2  0.5\n",
      "3    1    2  0.6\n",
      "4    2    2  0.9)\n"
     ]
    }
   ],
   "source": [
    "# Here we are loading the tables\n",
    "tables = [\"t1.txt\",\"t2.txt\",\"t3.txt\"]\n",
    "for table in tables:\n",
    "    read_table(table)\n"
   ]
  },
  {
   "cell_type": "code",
   "execution_count": 3,
   "metadata": {
    "collapsed": false
   },
   "outputs": [
    {
     "name": "stdout",
     "output_type": "stream",
     "text": [
      "['R(x1,y1),Q(x1)']\n"
     ]
    }
   ],
   "source": [
    "# This part is not automated, in the final solution, \n",
    "#the query parser would give us a list of strings so we know which dataframes we need to evaluate.\n",
    "queries = \"query1.txt\"\n",
    "parse_query(queries)"
   ]
  },
  {
   "cell_type": "code",
   "execution_count": 4,
   "metadata": {
    "collapsed": false
   },
   "outputs": [
    {
     "name": "stdout",
     "output_type": "stream",
     "text": [
      "('table data', array([['0', '0', '0.8'],\n",
      "       ['0', '1', '0.4'],\n",
      "       ['0', '2', '0.5'],\n",
      "       ['1', '2', '0.6'],\n",
      "       ['2', '2', '0.9']], dtype='|S3'))\n"
     ]
    }
   ],
   "source": [
    "    file = open(\"t3.txt\" ,\"r\")\n",
    "    lines = file.readlines()\n",
    "    lines = [line.replace(\"\\n\", \"\") for line in lines]\n",
    "    lines = [line.strip() for line in lines]\n",
    "    lines = [line.split(',') for line in lines]\n",
    "    table_name = lines[0][0]\n",
    "    data = np.array(lines[1:])\n",
    "    print('table data', data)"
   ]
  },
  {
   "cell_type": "code",
   "execution_count": 5,
   "metadata": {
    "collapsed": false
   },
   "outputs": [
    {
     "name": "stdout",
     "output_type": "stream",
     "text": [
      "{'Q':   Var1 Prob\n",
      "0    0  0.7\n",
      "1    1  0.3\n",
      "2    2  0.5, 'P':   Var1 Prob\n",
      "0    0  0.7\n",
      "1    1  0.8\n",
      "2    2  0.6, 'R':   Var1 Var2 Prob\n",
      "0    0    0  0.8\n",
      "1    0    1  0.4\n",
      "2    0    2  0.5\n",
      "3    1    2  0.6\n",
      "4    2    2  0.9}\n"
     ]
    }
   ],
   "source": [
    "print(database)"
   ]
  },
  {
   "cell_type": "code",
   "execution_count": 6,
   "metadata": {
    "collapsed": false
   },
   "outputs": [
    {
     "name": "stdout",
     "output_type": "stream",
     "text": [
      "  Var1 Prob\n",
      "0    0  0.7\n",
      "1    1  0.3\n",
      "2    2  0.5\n"
     ]
    }
   ],
   "source": [
    "print(database['Q'])"
   ]
  },
  {
   "cell_type": "code",
   "execution_count": 7,
   "metadata": {
    "collapsed": false
   },
   "outputs": [
    {
     "name": "stdout",
     "output_type": "stream",
     "text": [
      "  Var1 Prob\n",
      "0    0  0.7\n",
      "1    1  0.8\n",
      "2    2  0.6\n"
     ]
    }
   ],
   "source": [
    "print(database['P'])"
   ]
  },
  {
   "cell_type": "code",
   "execution_count": 8,
   "metadata": {
    "collapsed": true
   },
   "outputs": [],
   "source": [
    "database['R'][\"Prob\"]= pd.to_numeric(database['R'][\"Prob\"])\n",
    "database['Q'][\"Prob\"]= pd.to_numeric(database['Q'][\"Prob\"])\n",
    "database['P'][\"Prob\"]= pd.to_numeric(database['P'][\"Prob\"])\n",
    "#'Here I needed a data type conversion to numeric as in our parser, we set all elements in the df to string')\n",
    "#'This step can be moved back into the parser, maybe?')"
   ]
  },
  {
   "cell_type": "code",
   "execution_count": 9,
   "metadata": {
    "collapsed": true
   },
   "outputs": [],
   "source": [
    "#'in the r xy table, need the negative of the possibilities'\n",
    "database['R'][\"NegProb\"]= (1-database['R'][\"Prob\"])"
   ]
  },
  {
   "cell_type": "code",
   "execution_count": 10,
   "metadata": {
    "collapsed": false
   },
   "outputs": [
    {
     "name": "stdout",
     "output_type": "stream",
     "text": [
      "  Var1 Var2  Prob  NegProb\n",
      "0    0    0   0.8      0.2\n",
      "1    0    1   0.4      0.6\n",
      "2    0    2   0.5      0.5\n",
      "3    1    2   0.6      0.4\n",
      "4    2    2   0.9      0.1\n"
     ]
    }
   ],
   "source": [
    "print(database['R'])"
   ]
  },
  {
   "cell_type": "code",
   "execution_count": 11,
   "metadata": {
    "collapsed": false
   },
   "outputs": [
    {
     "name": "stdout",
     "output_type": "stream",
     "text": [
      "The key is to find the neg probability in each (x,y) pairing, grouping on x\n",
      "      Prob  NegProb\n",
      "Var1               \n",
      "0     0.16     0.06\n",
      "1     0.60     0.40\n",
      "2     0.90     0.10\n",
      "we are taking the R x,y table and grouping on x, essentially eliminating y, so we can do an inner join with the dataframes in a following step\n"
     ]
    }
   ],
   "source": [
    "print('The key is to find the neg probability in each (x,y) pairing, grouping on x')\n",
    "print(database['R'].groupby('Var1').prod())\n",
    "df = pd.DataFrame(database['R'].groupby('Var1').prod())\n",
    "database['Rprod']=database['R'].groupby('Var1').prod()\n",
    "\n",
    "print('we are taking the R x,y table and grouping on x, essentially eliminating y, so we can do an inner join with the dataframes in a following step')"
   ]
  },
  {
   "cell_type": "code",
   "execution_count": 12,
   "metadata": {
    "collapsed": false
   },
   "outputs": [
    {
     "name": "stdout",
     "output_type": "stream",
     "text": [
      "  Var1  Prob\n",
      "0    0   0.7\n",
      "1    1   0.3\n",
      "2    2   0.5\n"
     ]
    }
   ],
   "source": [
    "print(database['Q'])"
   ]
  },
  {
   "cell_type": "code",
   "execution_count": 13,
   "metadata": {
    "collapsed": false
   },
   "outputs": [
    {
     "name": "stdout",
     "output_type": "stream",
     "text": [
      "      Prob  NegProb\n",
      "Var1               \n",
      "0     0.16     0.06\n",
      "1     0.60     0.40\n",
      "2     0.90     0.10\n"
     ]
    }
   ],
   "source": [
    "print(database['Rprod'])"
   ]
  },
  {
   "cell_type": "code",
   "execution_count": 14,
   "metadata": {
    "collapsed": false
   },
   "outputs": [
    {
     "name": "stdout",
     "output_type": "stream",
     "text": [
      "here we inner join on Qx dataframe and our newly simplified R(x,y) database\n"
     ]
    }
   ],
   "source": [
    "result = pd.merge(database['Rprod'][['NegProb']],database['Q'][['Var1','Prob']],how='inner', on = 'Var1')\n",
    "print('here we inner join on Qx dataframe and our newly simplified R(x,y) database')\n",
    "# note the syntax here is quite strange, as the double bracket [[]]in the dataframe is a select specific columns"
   ]
  },
  {
   "cell_type": "code",
   "execution_count": 15,
   "metadata": {
    "collapsed": false
   },
   "outputs": [
    {
     "name": "stdout",
     "output_type": "stream",
     "text": [
      "  Var1  NegProb  Prob\n",
      "0    0     0.06   0.7\n",
      "1    1     0.40   0.3\n",
      "2    2     0.10   0.5\n"
     ]
    }
   ],
   "source": [
    "print(result)\n"
   ]
  },
  {
   "cell_type": "code",
   "execution_count": 16,
   "metadata": {
    "collapsed": true
   },
   "outputs": [],
   "source": [
    "answer = 1-((1-(result[\"Prob\"]*(1-result[\"NegProb\"])))).prod()\n",
    "# this is the final equation to give us our answer , it is:\n",
    "#\n",
    "# 1. Prob, the probability that each variable is true, \n",
    "# 2. and (1-Negprob) which is the case that given x, the probability that x,y is true.\n",
    "\n",
    "# this probability is essentially the prob that each (x), (x,y) paring is true.\n",
    "# we do 1- to find the prob that each paring is false.\n",
    "# we do 1- the product of all paring is false, which equals at lease one pariing is true.\n",
    "#  Notes\n",
    "# (1 - negprob) takes into account the fact that in the x,y table, one variable x can have many y mappings. \n",
    "# hence the group by product eariler \n"
   ]
  },
  {
   "cell_type": "code",
   "execution_count": 17,
   "metadata": {
    "collapsed": false
   },
   "outputs": [
    {
     "data": {
      "text/plain": [
       "0.845758"
      ]
     },
     "execution_count": 17,
     "metadata": {},
     "output_type": "execute_result"
    }
   ],
   "source": [
    "answer"
   ]
  },
  {
   "cell_type": "code",
   "execution_count": 18,
   "metadata": {
    "collapsed": false
   },
   "outputs": [
    {
     "data": {
      "text/plain": [
       "'yay able to get the 8458 from parsing the files'"
      ]
     },
     "execution_count": 18,
     "metadata": {},
     "output_type": "execute_result"
    }
   ],
   "source": [
    "'yay able to get the 8458 from parsing the files'"
   ]
  },
  {
   "cell_type": "code",
   "execution_count": 19,
   "metadata": {
    "collapsed": true
   },
   "outputs": [],
   "source": [
    "#For the many inputs in the query case, we will need to take each answer prob, store them in a list and then do \n",
    "#1- the product of (1-Prod) again\n",
    "#In essence another layer of 1- on the existing algorithm"
   ]
  },
  {
   "cell_type": "code",
   "execution_count": 38,
   "metadata": {
    "collapsed": false
   },
   "outputs": [
    {
     "ename": "SyntaxError",
     "evalue": "invalid syntax (<ipython-input-38-528a672b6ee3>, line 1)",
     "output_type": "error",
     "traceback": [
      "\u001b[0;36m  File \u001b[0;32m\"<ipython-input-38-528a672b6ee3>\"\u001b[0;36m, line \u001b[0;32m1\u001b[0m\n\u001b[0;31m    To do list:\u001b[0m\n\u001b[0m        ^\u001b[0m\n\u001b[0;31mSyntaxError\u001b[0m\u001b[0;31m:\u001b[0m invalid syntax\n"
     ]
    }
   ],
   "source": [
    "To do list:\n",
    "Remaining functions which need work.\n",
    "parse_query()       -- parse query . -- input . query string -- output list of (x),(x,y) pairings in an array\n",
    "dfmani(['P','R'])   -- dataframe manipulation  --input letters of the corresponding tables, --output append pair prob to answer array\n",
    "Final(Answer Array) -- final solution calculation  -- input answer array .  -- output final solution\n",
    "Unfortunately, we also have to work on the case where different P,Q share the same R(x,y) this is the second test case, \n",
    "no idea how to do this.\n",
    "\n",
    "1. In the query parser, we should get an array with a list of x , (x,y) parings so like  ['P','R'],['Q','R'],['T','R'] so we can run the steps on multiple pairs\n",
    "    my thought for this is the first element of each tuple is the x pair, and the second is the x,y pair. \n",
    "    that would make things super easy for a for loop\n",
    "\n",
    "    \n",
    "2. We need to put the dataframe manipulation into a def function so we can call it for each pair.\n",
    "    This function should store each answer in an answer array. for each x, (x,y) pair\n",
    "    goal implementation dfmani(['Q','R'])  would give us the 0.8458\n",
    "    \n",
    "3. We need a final output function which takes each answer in the answer array and do the 1- prod manipulation.''''''\n"
   ]
  }
 ],
 "metadata": {
  "anaconda-cloud": {},
  "kernelspec": {
   "display_name": "Python [default]",
   "language": "python",
   "name": "python2"
  },
  "language_info": {
   "codemirror_mode": {
    "name": "ipython",
    "version": 2
   },
   "file_extension": ".py",
   "mimetype": "text/x-python",
   "name": "python",
   "nbconvert_exporter": "python",
   "pygments_lexer": "ipython2",
   "version": "2.7.12"
  }
 },
 "nbformat": 4,
 "nbformat_minor": 2
}
